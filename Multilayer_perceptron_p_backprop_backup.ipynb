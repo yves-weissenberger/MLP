{
 "cells": [
  {
   "cell_type": "code",
   "execution_count": 1,
   "metadata": {
    "collapsed": false
   },
   "outputs": [],
   "source": [
    "from __future__ import division\n",
    "from numpy import pi, linspace, sin, cos, exp, log, sqrt, dot\n",
    "from numpy.linalg import norm\n",
    "import numpy.random as rnd\n",
    "import random\n",
    "\n",
    "\n",
    "import numpy as np\n",
    "import matplotlib.pyplot as plt\n",
    "#import theano as T\n",
    "\n",
    "%matplotlib inline\n",
    "\n",
    "sigmoid = lambda x: 1/(1+np.exp(-x))"
   ]
  },
  {
   "cell_type": "code",
   "execution_count": 2,
   "metadata": {
    "collapsed": false
   },
   "outputs": [],
   "source": [
    "import mnist_loader\n",
    "training_data, validation_data, test_data = mnist_loader.load_data_wrapper()"
   ]
  },
  {
   "cell_type": "markdown",
   "metadata": {},
   "source": [
    "<h1> Write own neural network code </h1>"
   ]
  },
  {
   "cell_type": "code",
   "execution_count": 85,
   "metadata": {
    "collapsed": false
   },
   "outputs": [],
   "source": [
    "\"\"\" Multi Layer Perceptron\"\"\"\n",
    "\n",
    "\n",
    "class multilayer_perceptron(object):\n",
    "    \n",
    "    \n",
    "\n",
    "    \n",
    "    def __init__(self,units_per_layer,activation='sigmoid',costF='quadratic'):\n",
    "        self.num_layers = len(units_per_layer)\n",
    "        self.biases = [np.random.randn(y, 1) for y in units_per_layer[1:]]\n",
    "        self.weights = [np.random.randn(y, x)\n",
    "                        for x, y in zip(units_per_layer[:-1], units_per_layer[1:])]\n",
    "\n",
    "        if activation=='sigmoid':\n",
    "            self.activation = lambda x: 1./(1.+np.exp(-x))\n",
    "            self.activation_deriv = lambda x: sigmoid(x)*(1-sigmoid(x))\n",
    "        else:\n",
    "            raise ValueError\n",
    "            \n",
    "        if costF=='cross_entropy':\n",
    "            self.costF = lambda a,y: 1/len(a) * np.sum(y*np.log(a) + (1-y)*np.log(1-a))\n",
    "            self.get_output_delta = lambda a,y,z: (a-y)\n",
    "        elif costF=='quadratic':\n",
    "            self.costF = lambda a,y: 1/len(a) * np.sum(norm(x-y)**2)\n",
    "            self.get_output_delta = lambda a,y,z: ((a-y)*\n",
    "                                            self.activation_deriv(z))\n",
    "\n",
    "\n",
    "\n",
    "    def forwardpass(self, a):\n",
    "        \"\"\"Return the output of the network if 'a`` is input.\"\"\"\n",
    "        for b, w in zip(self.biases, self.weights):\n",
    "            a = self.activation(np.dot(w, a)+b)\n",
    "        return a\n",
    "\n",
    "\n",
    "   \n",
    "            \n",
    "    def backprop(self,network_input,target_activation):\n",
    "\n",
    "            delta_cost_biass = [np.zeros(b.shape) for b in self.biases]\n",
    "            delta_cost_weights = [np.zeros(w.shape) for w in self.weights]\n",
    "\n",
    "            weighted_activations = []; \n",
    "            a = network_input\n",
    "            activations = [a]\n",
    "            \"first perform the forward pass\"\n",
    "            for b, w in zip(self.biases, self.weights):\n",
    "                #print 'a: %s, b: %s, c: %s' %(a.shape, b.shape, w.shape)\n",
    "                z = np.dot(w, a)+b \n",
    "                weighted_activations.append(z)\n",
    "                a = sigmoid(z)\n",
    "                activations.append(a)\n",
    "\n",
    "            \"calculate the ouput errors\"\n",
    "            delta = self.get_output_delta(activations[-1],target_activation,weighted_activations[-1])\n",
    "            delta0 = delta\n",
    "            #print delta.shape\n",
    "            \n",
    "            \n",
    "            delta_cost_biass[-1] = delta\n",
    "            delta_cost_weights[-1] = np.dot(delta, activations[-2].T)\n",
    "            d0 = np.dot(delta, activations[-2].T)\n",
    "            #print activations[-2].shape\n",
    "            #print d0.shape\n",
    "            \"propagate the errors back\"\n",
    "            #layer_errors = []\n",
    "            #layer_errors[-1] = delta\n",
    "            for l in xrange(2,self.num_layers):\n",
    "                delta = np.dot(self.weights[-l+1].T,delta)*self.activation_deriv(weighted_activations[-l])\n",
    "                delta_cost_biass[-l] = delta\n",
    "                delta_cost_weights[-l] =  np.dot(delta, activations[-l-1].T)\n",
    "\n",
    "            return delta_cost_weights, delta_cost_biass, d0\n",
    "        \n",
    "        \n",
    "    def miniBatch_backprop(self,network_inputs,target_activation):\n",
    "\n",
    "            #print network_inputs.shape[1]\n",
    "            delta_cost_biass = [np.zeros(list(b.shape) + [network_inputs.shape[1]]) for b in self.biases]\n",
    "            delta_cost_weights = [np.zeros(list(w.shape) + [target_activation.shape[1]]) for w in self.weights]\n",
    "            weighted_activations = []; \n",
    "            a = network_inputs\n",
    "            activations = [a]\n",
    "            \"first perform the forward pass\"\n",
    "            for b, w in zip(self.biases, self.weights):\n",
    "                z = np.dot(w, a)+b \n",
    "                weighted_activations.append(z)\n",
    "                a = sigmoid(z)\n",
    "                activations.append(a)\n",
    "                \n",
    "                \n",
    "            \"calculate the ouput errors\"\n",
    "            delta = self.get_output_delta(activations[-1],target_activation,weighted_activations[-1])\n",
    "            \n",
    "            \n",
    "            \n",
    "            delta_cost_biass[-1] = np.array([delta.sum(axis=1)]).T\n",
    "            delta_cost_weights[-1] = np.einsum('ik,jk->kij', delta, activations[-2]).sum(axis=0)\n",
    "\n",
    "\n",
    "            for l in xrange(2,self.num_layers):\n",
    "                delta = np.dot(self.weights[-l+1].T,delta)*self.activation_deriv(weighted_activations[-l])\n",
    "                delta_cost_biass[-l] = np.array([delta.sum(axis=1)]).T\n",
    "                delta_cost_weights[-l] =  np.einsum('ik,jk->kij', delta, activations[-l-1]).sum(axis=0)\n",
    "\n",
    "            return delta_cost_weights, delta_cost_biass\n",
    "\n",
    "        \n",
    "    \n",
    "    def minibatch_weight_update(self,mini_batch,eta):\n",
    "\n",
    "        delta_cost_biass = [np.zeros(b.shape) for b in self.biases]\n",
    "        delta_cost_weights = [np.zeros(w.shape) for w in self.weights]\n",
    "        \n",
    "        #recursive for calculating errors over training examples\n",
    "        n_examples = len(mini_batch)\n",
    "        \n",
    "        \n",
    "        x_data = np.squeeze(np.array([mini_batch[i][0] for i in range(n_examples)])).T\n",
    "        y_data = np.squeeze(np.array([mini_batch[i][1] for i in range(n_examples)])).T\n",
    "        \n",
    "\n",
    "        delta_cost_weights, delta_cost_biass = self.miniBatch_backprop(x_data,y_data)\n",
    "        \n",
    "        #ars = []\n",
    "        \n",
    "        \"\"\"for x, y in mini_batch:\n",
    "            delta_w, delta_b,ar = self.backprop(x, y)\n",
    "            ars.append(ar)\n",
    "            delta_cost_biass = [nb+dnb for nb, dnb in zip(delta_cost_biass, delta_b)]\n",
    "            delta_cost_weights = [nw+dnw for nw, dnw in zip(delta_cost_weights, delta_w)]\n",
    "        \n",
    "        \"\"\"\n",
    "        \n",
    "        \"Below the checks are working, as far as I can tell 15/02/2015\"\n",
    "        #print np.allclose(delta_cost_weights[0], delta_cost_weights_2[0])   #check weights\n",
    "        #print print np.allclose(delta_cost_biass[0], delta_cost_biass_2[0])  #for checking bias \n",
    "        #print np.allclose(ar2[0][:,4],np.squeeze(np.array(ars[4][0])))    #for checking activations example=4\n",
    "        #print np.allclose(np.squeeze(delta_cost_weights[1]),np.squeeze(delta_cost_weights_2[1]))  #for checking bias \n",
    "        #print np.allclose(np.squeeze(ar2),np.squeeze(np.array(ars)).T)  #for checking output error (i.e. delta) example=6\n",
    "\n",
    "        self.weights = [w-(eta/len(mini_batch))*nw\n",
    "                        for w, nw in zip(self.weights, delta_cost_weights)]\n",
    "        #print b.shape, nb.shape\n",
    "        self.biases = [b-(eta/len(mini_batch))*nb\n",
    "                       for b, nb in zip(self.biases, delta_cost_biass)]\n",
    "    \n",
    "    def stochastic_gradient_descent(self, training_data, epochs, mini_batch_size, eta,test_data=None):\n",
    "        \n",
    "        if test_data: n_test = len(test_data)\n",
    "        n = len(training_data)\n",
    "        for j in xrange(epochs):\n",
    "            random.shuffle(training_data)\n",
    "            \n",
    "            mini_batches = [\n",
    "                training_data[k:k+mini_batch_size]\n",
    "                for k in xrange(0, n, mini_batch_size)]\n",
    "            for mini_batch in mini_batches:\n",
    "                #print [i.shape for i in self.biases]\n",
    "                self.minibatch_weight_update(mini_batch, eta)\n",
    "                #print 'ho'\n",
    "            if test_data:\n",
    "                print \"Epoch {0}: {1} / {2}\".format(\n",
    "                    j, self.evaluate(test_data), n_test)\n",
    "            else:\n",
    "                print \"Epoch {0} complete\".format(j)\n",
    "    \n",
    "    def evaluate(self, test_data):\n",
    "        \"\"\"Return the number of test inputs for which the neural\n",
    "        network outputs the correct result. Note that the neural\n",
    "        network's output is assumed to be the index of whichever\n",
    "        neuron in the final layer has the highest activation.\"\"\"\n",
    "        test_results = [(np.argmax(self.forwardpass(x)), y)\n",
    "                        for (x, y) in test_data]\n",
    "        return sum(int(x == y) for (x, y) in test_results)\n",
    "    \n",
    "    \n",
    "                \n",
    "                \n",
    "                "
   ]
  },
  {
   "cell_type": "code",
   "execution_count": 86,
   "metadata": {
    "collapsed": false
   },
   "outputs": [
    {
     "name": "stdout",
     "output_type": "stream",
     "text": [
      "Epoch 0: 9081 / 10000\n",
      "Epoch 1: 9254 / 10000\n",
      "Epoch 2: 9336 / 10000\n"
     ]
    },
    {
     "ename": "KeyboardInterrupt",
     "evalue": "",
     "output_type": "error",
     "traceback": [
      "\u001b[0;31m---------------------------------------------------------------------------\u001b[0m",
      "\u001b[0;31mKeyboardInterrupt\u001b[0m                         Traceback (most recent call last)",
      "\u001b[0;32m<ipython-input-86-4c69456b69bd>\u001b[0m in \u001b[0;36m<module>\u001b[0;34m()\u001b[0m\n\u001b[1;32m      1\u001b[0m \u001b[0mmlp\u001b[0m \u001b[0;34m=\u001b[0m \u001b[0mmultilayer_perceptron\u001b[0m\u001b[0;34m(\u001b[0m\u001b[0;34m[\u001b[0m\u001b[0;36m784\u001b[0m\u001b[0;34m,\u001b[0m \u001b[0;36m30\u001b[0m\u001b[0;34m,\u001b[0m \u001b[0;36m10\u001b[0m\u001b[0;34m]\u001b[0m\u001b[0;34m,\u001b[0m\u001b[0mcostF\u001b[0m\u001b[0;34m=\u001b[0m\u001b[0;34m'quadratic'\u001b[0m\u001b[0;34m)\u001b[0m\u001b[0;34m\u001b[0m\u001b[0m\n\u001b[0;32m----> 2\u001b[0;31m \u001b[0mmlp\u001b[0m\u001b[0;34m.\u001b[0m\u001b[0mstochastic_gradient_descent\u001b[0m\u001b[0;34m(\u001b[0m\u001b[0mtraining_data\u001b[0m\u001b[0;34m,\u001b[0m \u001b[0;36m15\u001b[0m\u001b[0;34m,\u001b[0m \u001b[0;36m10\u001b[0m\u001b[0;34m,\u001b[0m \u001b[0;36m3.0\u001b[0m\u001b[0;34m,\u001b[0m \u001b[0mtest_data\u001b[0m\u001b[0;34m=\u001b[0m\u001b[0mtest_data\u001b[0m\u001b[0;34m)\u001b[0m\u001b[0;34m\u001b[0m\u001b[0m\n\u001b[0m",
      "\u001b[0;32m<ipython-input-85-6e28356d5aea>\u001b[0m in \u001b[0;36mstochastic_gradient_descent\u001b[0;34m(self, training_data, epochs, mini_batch_size, eta, test_data)\u001b[0m\n\u001b[1;32m    160\u001b[0m             \u001b[0;32mfor\u001b[0m \u001b[0mmini_batch\u001b[0m \u001b[0;32min\u001b[0m \u001b[0mmini_batches\u001b[0m\u001b[0;34m:\u001b[0m\u001b[0;34m\u001b[0m\u001b[0m\n\u001b[1;32m    161\u001b[0m                 \u001b[0;31m#print [i.shape for i in self.biases]\u001b[0m\u001b[0;34m\u001b[0m\u001b[0;34m\u001b[0m\u001b[0m\n\u001b[0;32m--> 162\u001b[0;31m                 \u001b[0mself\u001b[0m\u001b[0;34m.\u001b[0m\u001b[0mminibatch_weight_update\u001b[0m\u001b[0;34m(\u001b[0m\u001b[0mmini_batch\u001b[0m\u001b[0;34m,\u001b[0m \u001b[0meta\u001b[0m\u001b[0;34m)\u001b[0m\u001b[0;34m\u001b[0m\u001b[0m\n\u001b[0m\u001b[1;32m    163\u001b[0m                 \u001b[0;31m#print 'ho'\u001b[0m\u001b[0;34m\u001b[0m\u001b[0;34m\u001b[0m\u001b[0m\n\u001b[1;32m    164\u001b[0m             \u001b[0;32mif\u001b[0m \u001b[0mtest_data\u001b[0m\u001b[0;34m:\u001b[0m\u001b[0;34m\u001b[0m\u001b[0m\n",
      "\u001b[0;32m<ipython-input-85-6e28356d5aea>\u001b[0m in \u001b[0;36mminibatch_weight_update\u001b[0;34m(self, mini_batch, eta)\u001b[0m\n\u001b[1;32m    123\u001b[0m \u001b[0;34m\u001b[0m\u001b[0m\n\u001b[1;32m    124\u001b[0m \u001b[0;34m\u001b[0m\u001b[0m\n\u001b[0;32m--> 125\u001b[0;31m         \u001b[0mdelta_cost_weights\u001b[0m\u001b[0;34m,\u001b[0m \u001b[0mdelta_cost_biass\u001b[0m \u001b[0;34m=\u001b[0m \u001b[0mself\u001b[0m\u001b[0;34m.\u001b[0m\u001b[0mbackprop_2\u001b[0m\u001b[0;34m(\u001b[0m\u001b[0mx_data\u001b[0m\u001b[0;34m,\u001b[0m\u001b[0my_data\u001b[0m\u001b[0;34m)\u001b[0m\u001b[0;34m\u001b[0m\u001b[0m\n\u001b[0m\u001b[1;32m    126\u001b[0m \u001b[0;34m\u001b[0m\u001b[0m\n\u001b[1;32m    127\u001b[0m         \u001b[0;31m#ars = []\u001b[0m\u001b[0;34m\u001b[0m\u001b[0;34m\u001b[0m\u001b[0m\n",
      "\u001b[0;32m<ipython-input-85-6e28356d5aea>\u001b[0m in \u001b[0;36mbackprop_2\u001b[0;34m(self, network_inputs, target_activation)\u001b[0m\n\u001b[1;32m    104\u001b[0m                 \u001b[0mdelta\u001b[0m \u001b[0;34m=\u001b[0m \u001b[0mnp\u001b[0m\u001b[0;34m.\u001b[0m\u001b[0mdot\u001b[0m\u001b[0;34m(\u001b[0m\u001b[0mself\u001b[0m\u001b[0;34m.\u001b[0m\u001b[0mweights\u001b[0m\u001b[0;34m[\u001b[0m\u001b[0;34m-\u001b[0m\u001b[0ml\u001b[0m\u001b[0;34m+\u001b[0m\u001b[0;36m1\u001b[0m\u001b[0;34m]\u001b[0m\u001b[0;34m.\u001b[0m\u001b[0mT\u001b[0m\u001b[0;34m,\u001b[0m\u001b[0mdelta\u001b[0m\u001b[0;34m)\u001b[0m\u001b[0;34m*\u001b[0m\u001b[0mself\u001b[0m\u001b[0;34m.\u001b[0m\u001b[0mactivation_deriv\u001b[0m\u001b[0;34m(\u001b[0m\u001b[0mweighted_activations\u001b[0m\u001b[0;34m[\u001b[0m\u001b[0;34m-\u001b[0m\u001b[0ml\u001b[0m\u001b[0;34m]\u001b[0m\u001b[0;34m)\u001b[0m\u001b[0;34m\u001b[0m\u001b[0m\n\u001b[1;32m    105\u001b[0m                 \u001b[0mdelta_cost_biass\u001b[0m\u001b[0;34m[\u001b[0m\u001b[0;34m-\u001b[0m\u001b[0ml\u001b[0m\u001b[0;34m]\u001b[0m \u001b[0;34m=\u001b[0m \u001b[0mnp\u001b[0m\u001b[0;34m.\u001b[0m\u001b[0marray\u001b[0m\u001b[0;34m(\u001b[0m\u001b[0;34m[\u001b[0m\u001b[0mdelta\u001b[0m\u001b[0;34m.\u001b[0m\u001b[0msum\u001b[0m\u001b[0;34m(\u001b[0m\u001b[0maxis\u001b[0m\u001b[0;34m=\u001b[0m\u001b[0;36m1\u001b[0m\u001b[0;34m)\u001b[0m\u001b[0;34m]\u001b[0m\u001b[0;34m)\u001b[0m\u001b[0;34m.\u001b[0m\u001b[0mT\u001b[0m\u001b[0;34m\u001b[0m\u001b[0m\n\u001b[0;32m--> 106\u001b[0;31m                 \u001b[0mdelta_cost_weights\u001b[0m\u001b[0;34m[\u001b[0m\u001b[0;34m-\u001b[0m\u001b[0ml\u001b[0m\u001b[0;34m]\u001b[0m \u001b[0;34m=\u001b[0m  \u001b[0mnp\u001b[0m\u001b[0;34m.\u001b[0m\u001b[0meinsum\u001b[0m\u001b[0;34m(\u001b[0m\u001b[0;34m'ik,jk->kij'\u001b[0m\u001b[0;34m,\u001b[0m \u001b[0mdelta\u001b[0m\u001b[0;34m,\u001b[0m \u001b[0mactivations\u001b[0m\u001b[0;34m[\u001b[0m\u001b[0;34m-\u001b[0m\u001b[0ml\u001b[0m\u001b[0;34m-\u001b[0m\u001b[0;36m1\u001b[0m\u001b[0;34m]\u001b[0m\u001b[0;34m)\u001b[0m\u001b[0;34m.\u001b[0m\u001b[0msum\u001b[0m\u001b[0;34m(\u001b[0m\u001b[0maxis\u001b[0m\u001b[0;34m=\u001b[0m\u001b[0;36m0\u001b[0m\u001b[0;34m)\u001b[0m\u001b[0;34m\u001b[0m\u001b[0m\n\u001b[0m\u001b[1;32m    107\u001b[0m \u001b[0;34m\u001b[0m\u001b[0m\n\u001b[1;32m    108\u001b[0m             \u001b[0;32mreturn\u001b[0m \u001b[0mdelta_cost_weights\u001b[0m\u001b[0;34m,\u001b[0m \u001b[0mdelta_cost_biass\u001b[0m\u001b[0;34m\u001b[0m\u001b[0m\n",
      "\u001b[0;31mKeyboardInterrupt\u001b[0m: "
     ]
    }
   ],
   "source": [
    "mlp = multilayer_perceptron([784, 30, 10],costF='quadratic')\n",
    "mlp.stochastic_gradient_descent(training_data, 15, 10, 3.0, test_data=test_data)"
   ]
  },
  {
   "cell_type": "code",
   "execution_count": 5,
   "metadata": {
    "collapsed": false
   },
   "outputs": [
    {
     "data": {
      "text/plain": [
       "' When doing the parallel processing, have delta.shape=(10, 10) activations[-2].shape=(30, 10)'"
      ]
     },
     "execution_count": 5,
     "metadata": {},
     "output_type": "execute_result"
    }
   ],
   "source": [
    "\"\"\" When doing the parallel processing, have delta.shape=(10, 10) activations[-2].shape=(30, 10)\"\"\""
   ]
  },
  {
   "cell_type": "code",
   "execution_count": null,
   "metadata": {
    "collapsed": true
   },
   "outputs": [],
   "source": []
  },
  {
   "cell_type": "code",
   "execution_count": 986,
   "metadata": {
    "collapsed": false
   },
   "outputs": [
    {
     "name": "stdout",
     "output_type": "stream",
     "text": [
      "1 0\n"
     ]
    }
   ],
   "source": [
    "ttt = range(2)\n",
    "print ttt[-1], ttt[-2]\n",
    "#ttt[-1]"
   ]
  },
  {
   "cell_type": "code",
   "execution_count": 630,
   "metadata": {
    "collapsed": false
   },
   "outputs": [
    {
     "name": "stdout",
     "output_type": "stream",
     "text": [
      "[[[ 0.31739983]\n",
      "  [ 0.45995428]\n",
      "  [ 0.59991046]\n",
      "  [-0.55894962]]\n",
      "\n",
      " [[ 0.51055908]\n",
      "  [ 0.26796226]\n",
      "  [-0.55077474]\n",
      "  [-0.71627016]]\n",
      "\n",
      " [[-0.00587581]\n",
      "  [-0.98922793]\n",
      "  [-0.42314318]\n",
      "  [ 0.27121335]]]\n",
      "[[[ 0.31739983  0.51055908 -0.00587581]\n",
      "  [ 0.45995428  0.26796226 -0.98922793]\n",
      "  [ 0.59991046 -0.55077474 -0.42314318]\n",
      "  [-0.55894962 -0.71627016  0.27121335]]]\n"
     ]
    }
   ],
   "source": [
    "\n",
    "acts = randn(3,4,1)\n",
    "print acts\n",
    "print acts.T"
   ]
  },
  {
   "cell_type": "code",
   "execution_count": 665,
   "metadata": {
    "collapsed": false
   },
   "outputs": [
    {
     "name": "stdout",
     "output_type": "stream",
     "text": [
      "(10, 1) (30, 1)\n"
     ]
    }
   ],
   "source": [
    "from numpy.random import randn\n",
    "\n",
    "dlt = randn(10,1)\n",
    "\n",
    "acts = randn(30,1)\n",
    "\n",
    "np.dot(dlt,acts.T).shape\n",
    "\n",
    "\n",
    "print dlt.shape,acts.shape"
   ]
  },
  {
   "cell_type": "code",
   "execution_count": 693,
   "metadata": {
    "collapsed": false
   },
   "outputs": [
    {
     "name": "stdout",
     "output_type": "stream",
     "text": [
      "[[0]\n",
      " [1]] \n",
      "\n",
      "[[0 1 2]]\n"
     ]
    },
    {
     "data": {
      "text/plain": [
       "array([[0, 0, 0],\n",
       "       [0, 1, 2]])"
      ]
     },
     "execution_count": 693,
     "metadata": {},
     "output_type": "execute_result"
    }
   ],
   "source": [
    "puy = np.array([np.arange(2)]).T\n",
    "puy2 = np.array([np.arange(3)]).T\n",
    "\n",
    "print puy, '\\n'\n",
    "print puy2.T \n",
    "np.dot(puy,puy2.T)\n",
    "#print puy.shape, puy2.shape"
   ]
  },
  {
   "cell_type": "code",
   "execution_count": 720,
   "metadata": {
    "collapsed": false
   },
   "outputs": [
    {
     "ename": "ValueError",
     "evalue": "fewer operands provided to einstein sum function than specified in the subscripts string",
     "output_type": "error",
     "traceback": [
      "\u001b[0;31m---------------------------------------------------------------------------\u001b[0m",
      "\u001b[0;31mValueError\u001b[0m                                Traceback (most recent call last)",
      "\u001b[0;32m<ipython-input-720-c3f59ecb8cfb>\u001b[0m in \u001b[0;36m<module>\u001b[0;34m()\u001b[0m\n\u001b[0;32m----> 1\u001b[0;31m \u001b[0mnp\u001b[0m\u001b[0;34m.\u001b[0m\u001b[0meinsum\u001b[0m\u001b[0;34m(\u001b[0m\u001b[0;34m'ij->k'\u001b[0m\u001b[0;34m,\u001b[0m\u001b[0mpuy\u001b[0m\u001b[0;34m,\u001b[0m\u001b[0mpuy2\u001b[0m\u001b[0;34m)\u001b[0m\u001b[0;34m\u001b[0m\u001b[0m\n\u001b[0m",
      "\u001b[0;31mValueError\u001b[0m: fewer operands provided to einstein sum function than specified in the subscripts string"
     ]
    }
   ],
   "source": [
    "np.einsum('ij->k',puy,puy2)"
   ]
  },
  {
   "cell_type": "code",
   "execution_count": 19,
   "metadata": {
    "collapsed": false
   },
   "outputs": [],
   "source": [
    "\n",
    "puy = np.arange(8000).reshape(20,400)\n",
    "puy2 = np.arange(12000).reshape(30,400)\n",
    "\n",
    "\n"
   ]
  },
  {
   "cell_type": "code",
   "execution_count": 23,
   "metadata": {
    "collapsed": false
   },
   "outputs": [
    {
     "name": "stdout",
     "output_type": "stream",
     "text": [
      "100 loops, best of 3: 4.59 ms per loop\n"
     ]
    }
   ],
   "source": [
    "%%timeit\n",
    "\n",
    "zz = np.zeros([400,20,30])\n",
    "\n",
    "for i in range(400):\n",
    "    zz[i,:,:] = np.dot(np.array([puy[:,i]]).T,\n",
    "                np.array([puy2.T[i,:]]))\n",
    "\n",
    "\n"
   ]
  },
  {
   "cell_type": "code",
   "execution_count": 22,
   "metadata": {
    "collapsed": false
   },
   "outputs": [
    {
     "name": "stdout",
     "output_type": "stream",
     "text": [
      "1000 loops, best of 3: 267 µs per loop\n"
     ]
    }
   ],
   "source": [
    "%%timeit\n",
    "\n",
    "np.einsum('ik,jk->kij', puy, puy2)"
   ]
  },
  {
   "cell_type": "code",
   "execution_count": 776,
   "metadata": {
    "collapsed": false
   },
   "outputs": [],
   "source": [
    "n_examples = len(training_data)\n",
    "x_data = np.array([training_data[i][0] for i in range(n_examples)])\n",
    "y_data = np.array([training_data[i][1] for i in range(n_examples)])"
   ]
  },
  {
   "cell_type": "code",
   "execution_count": 777,
   "metadata": {
    "collapsed": false
   },
   "outputs": [
    {
     "data": {
      "text/plain": [
       "50000"
      ]
     },
     "execution_count": 777,
     "metadata": {},
     "output_type": "execute_result"
    }
   ],
   "source": [
    "x_data = np.squeeze(x_data).T\n",
    "x_data.shape[1]"
   ]
  },
  {
   "cell_type": "code",
   "execution_count": 778,
   "metadata": {
    "collapsed": false
   },
   "outputs": [
    {
     "data": {
      "text/plain": [
       "(784,)"
      ]
     },
     "execution_count": 778,
     "metadata": {},
     "output_type": "execute_result"
    }
   ],
   "source": [
    "x_data[:,100].shape"
   ]
  },
  {
   "cell_type": "code",
   "execution_count": 779,
   "metadata": {
    "collapsed": false
   },
   "outputs": [
    {
     "name": "stdout",
     "output_type": "stream",
     "text": [
      "49\n"
     ]
    },
    {
     "data": {
      "image/png": "[encoded data removed]",
      "text/plain": [
       "<matplotlib.figure.Figure at 0x105f4f050>"
      ]
     },
     "metadata": {},
     "output_type": "display_data"
    }
   ],
   "source": [
    "plt.figure(figsize=(10,10))\n",
    "\n",
    "\n",
    "k = 0 \n",
    "for i in range(1,8):\n",
    "    for j in range(1,8):\n",
    "        plt.subplot(7,7,k)\n",
    "        plt.imshow(x_data[:,k].reshape(28,28),cmap='binary_r',interpolation='none')\n",
    "        plt.grid()\n",
    "        plt.yticks()\n",
    "        k+= 1\n",
    "print i*j"
   ]
  },
  {
   "cell_type": "code",
   "execution_count": 19,
   "metadata": {
    "collapsed": false
   },
   "outputs": [
    {
     "data": {
      "text/plain": [
       "(784, 50000)"
      ]
     },
     "execution_count": 19,
     "metadata": {},
     "output_type": "execute_result"
    }
   ],
   "source": []
  },
  {
   "cell_type": "markdown",
   "metadata": {},
   "source": [
    "<h1> Reporgram Network outside the context of fucking-OOP bullshit<h1>"
   ]
  },
  {
   "cell_type": "code",
   "execution_count": 236,
   "metadata": {
    "collapsed": false
   },
   "outputs": [],
   "source": [
    "\"Initialise the Network\"\n",
    "\n",
    "units_p_layer = [784, 30, 10]\n",
    "num_layers = len(units_p_layer)\n",
    "biases = [np.random.randn(y,1) for y in units_p_layer[1:]]\n",
    "weights =  [np.random.randn(y, x) for x, y in zip(units_p_layer[:-1], units_p_layer[1:])]\n",
    "\n",
    "activation = lambda x: 1./(1.+np.exp(-x))\n",
    "activation_deriv = lambda x: sigmoid(x)*(1-sigmoid(x))\n",
    "\n",
    "costF = lambda a,y: 1/len(a) * np.sum(norm(x-y)**2)\n",
    "\n",
    "get_output_delta = lambda a,y,z: ((a-y)*  activation_deriv(z))"
   ]
  },
  {
   "cell_type": "code",
   "execution_count": 237,
   "metadata": {
    "collapsed": false
   },
   "outputs": [],
   "source": [
    "\" Do stochastic minibatch-gradient descent for 1 epoch\"\n",
    "\n",
    "n = len(training_data)\n",
    "mini_batch_size = 10\n",
    "\n",
    "random.shuffle(training_data)\n",
    "\n",
    "mini_batches = [ training_data[k:k+mini_batch_size]\n",
    "                for k in xrange(0, n, mini_batch_size)]\n",
    "\n",
    "\n",
    "mini_batch = mini_batches[0]\n",
    "\n",
    "\n",
    "Delta_cost_biass = [np.zeros(b.shape) for b in biases]\n",
    "Delta_cost_weights = [np.zeros(w.shape) for w in weights]\n",
    "\n",
    "\n",
    "n_examples = len(mini_batch)\n",
    "\n",
    "\n",
    "#x_data = np.squeeze(np.array([training_data[i][0] for i in range(n_examples)])).T\n",
    "#y_data = np.squeeze(np.array([training_data[i][1] for i in range(n_examples)])).T\n"
   ]
  },
  {
   "cell_type": "code",
   "execution_count": 292,
   "metadata": {
    "collapsed": false
   },
   "outputs": [],
   "source": [
    "ars= []\n",
    "\n",
    "\n",
    "for network_input, target_activation in mini_batch:\n",
    "    \n",
    "    delta_cost_biass = [np.zeros(b.shape) for b in biases]\n",
    "    delta_cost_weights = [np.zeros(w.shape) for w in weights]\n",
    "\n",
    "    weighted_activations = []; \n",
    "    a = network_input\n",
    "    activations = [a]\n",
    "    \"first perform the forward pass\"\n",
    "    for b, w in zip(biases, weights):\n",
    "        #print 'a: %s, b: %s, c: %s' %(a.shape, b.shape, w.shape)\n",
    "        z = np.dot(w, a)+b \n",
    "        weighted_activations.append(z)\n",
    "        a = sigmoid(z)\n",
    "        activations.append(a)\n",
    "\n",
    "    ars.append(weighted_activations[0])"
   ]
  },
  {
   "cell_type": "code",
   "execution_count": 442,
   "metadata": {
    "collapsed": false
   },
   "outputs": [
    {
     "data": {
      "text/plain": [
       "784"
      ]
     },
     "execution_count": 442,
     "metadata": {},
     "output_type": "execute_result"
    },
    {
     "name": "stdout",
     "output_type": "stream",
     "text": [
      "\n"
     ]
    }
   ],
   "source": [
    "len(mini_batch[6][0])"
   ]
  },
  {
   "cell_type": "code",
   "execution_count": null,
   "metadata": {
    "collapsed": true
   },
   "outputs": [],
   "source": [
    "np.squeez"
   ]
  },
  {
   "cell_type": "code",
   "execution_count": 446,
   "metadata": {
    "collapsed": false
   },
   "outputs": [],
   "source": [
    "mini_batch = mini_batches[0]\n",
    "\n",
    "\n",
    "\n",
    "\n",
    "n_examples = len(mini_batch)\n",
    "\n",
    "x_data = np.squeeze(np.array([mini_batch[i][0] for i in range(n_examples)]))\n",
    "y_data = np.array([mini_batch[i][1] for i in range(n_examples)])"
   ]
  },
  {
   "cell_type": "code",
   "execution_count": 451,
   "metadata": {
    "collapsed": false
   },
   "outputs": [
    {
     "name": "stdout",
     "output_type": "stream",
     "text": [
      "(784,) (784,)\n",
      "False\n"
     ]
    }
   ],
   "source": [
    "kk = 6\n",
    "print x_data[kk,:].shape, np.squeeze(mini_batch[kk][0]).shape\n",
    "print np.isclose(x_data[kk,:],np.squeeze(mini_batch[kk-1][0])).all()"
   ]
  },
  {
   "cell_type": "code",
   "execution_count": 302,
   "metadata": {
    "collapsed": false
   },
   "outputs": [],
   "source": [
    "zs_serial = np.array([ars[i][:,0] for i in range(len(ars))])"
   ]
  },
  {
   "cell_type": "code",
   "execution_count": 403,
   "metadata": {
    "collapsed": false
   },
   "outputs": [
    {
     "name": "stdout",
     "output_type": "stream",
     "text": [
      "(784,) (784, 1)\n",
      "False\n"
     ]
    }
   ],
   "source": []
  },
  {
   "cell_type": "code",
   "execution_count": 294,
   "metadata": {
    "collapsed": false
   },
   "outputs": [
    {
     "name": "stdout",
     "output_type": "stream",
     "text": [
      "(784, 10)\n",
      "(30, 10)\n",
      "(30, 10)\n",
      "(10, 10)\n",
      "(10, 10)\n"
     ]
    }
   ],
   "source": [
    "print x_data.shape\n",
    "a = x_data\n",
    "zs = []\n",
    "for b, w in zip(biases, weights):\n",
    "        #print 'a: %s, b: %s, c: %s' %(a.shape, b.shape, w.shape)\n",
    "        z = np.dot(w,a)+b \n",
    "        zs.append(z)\n",
    "        print z.shape\n",
    "        weighted_activations.append(z)\n",
    "        a = activation(z)\n",
    "        print a.shape\n",
    "        activations.append(a)"
   ]
  },
  {
   "cell_type": "code",
   "execution_count": 372,
   "metadata": {
    "collapsed": false
   },
   "outputs": [
    {
     "data": {
      "text/plain": [
       "True"
      ]
     },
     "execution_count": 372,
     "metadata": {},
     "output_type": "execute_result"
    }
   ],
   "source": [
    "np.isclose(np.dot(weights[0],x_data[:,6]),np.dot(weights[0],x_data)[:,6]).all()"
   ]
  },
  {
   "cell_type": "code",
   "execution_count": 309,
   "metadata": {
    "collapsed": false
   },
   "outputs": [
    {
     "data": {
      "text/plain": [
       "array([ -2.85733504, -10.95558156, -10.00725864,  -5.77073851,\n",
       "        11.79546477,   5.0275419 , -11.27519516,  13.19007087,\n",
       "         8.39289714,   5.48909615, -14.74193554,   3.28699989,\n",
       "        -1.87634995,  -5.03920653,  -3.25347905,   1.2367262 ,\n",
       "        18.49627858,  -8.60970004,  -2.10982594,   5.66897992,\n",
       "        -5.83039227,   9.22313255,  12.50644141,   3.98346472,\n",
       "        -8.45147191,   0.41202166,  -2.31740025,  12.05791539,\n",
       "         2.05799706,  -0.6862063 ])"
      ]
     },
     "execution_count": 309,
     "metadata": {},
     "output_type": "execute_result"
    }
   ],
   "source": [
    "np.dot(weights[0],x_data)[:,0]"
   ]
  },
  {
   "cell_type": "code",
   "execution_count": null,
   "metadata": {
    "collapsed": true
   },
   "outputs": [],
   "source": [
    "            \n",
    "    def backprop(self,network_input,target_activation):\n",
    "\n",
    "            delta_cost_biass = [np.zeros(b.shape) for b in self.biases]\n",
    "            delta_cost_weights = [np.zeros(w.shape) for w in self.weights]\n",
    "\n",
    "            weighted_activations = []; \n",
    "            a = network_input\n",
    "            activations = [a]\n",
    "            \"first perform the forward pass\"\n",
    "            for b, w in zip(self.biases, self.weights):\n",
    "                #print 'a: %s, b: %s, c: %s' %(a.shape, b.shape, w.shape)\n",
    "                z = np.dot(w, a)+b \n",
    "                weighted_activations.append(z)\n",
    "                a = sigmoid(z)\n",
    "                activations.append(a)\n",
    "\n",
    "            \"calculate the ouput errors\"\n",
    "            delta = self.get_output_delta(activations[-1],target_activation,weighted_activations[-1])\n",
    "\n",
    "            \n",
    "            \n",
    "            delta_cost_biass[-1] = delta\n",
    "            delta_cost_weights[-1] = np.dot(delta, activations[-2].transpose())\n",
    "            \"propagate the errors back\"\n",
    "            #layer_errors = []\n",
    "            #layer_errors[-1] = delta\n",
    "            for l in xrange(2,self.num_layers):\n",
    "                delta = np.dot(self.weights[-l+1].T,delta)*self.activation_deriv(weighted_activations[-l])\n",
    "                delta_cost_biass[-l] = delta\n",
    "                delta_cost_weights[-l] =  np.dot(delta, activations[-l-1].T)\n",
    "\n",
    "            return delta_cost_weights, delta_cost_biass, weighted_activations"
   ]
  },
  {
   "cell_type": "code",
   "execution_count": null,
   "metadata": {
    "collapsed": true
   },
   "outputs": [],
   "source": []
  },
  {
   "cell_type": "code",
   "execution_count": null,
   "metadata": {
    "collapsed": true
   },
   "outputs": [],
   "source": []
  },
  {
   "cell_type": "code",
   "execution_count": null,
   "metadata": {
    "collapsed": true
   },
   "outputs": [],
   "source": []
  },
  {
   "cell_type": "code",
   "execution_count": null,
   "metadata": {
    "collapsed": true
   },
   "outputs": [],
   "source": []
  },
  {
   "cell_type": "code",
   "execution_count": null,
   "metadata": {
    "collapsed": true
   },
   "outputs": [],
   "source": []
  },
  {
   "cell_type": "code",
   "execution_count": 93,
   "metadata": {
    "collapsed": false
   },
   "outputs": [],
   "source": [
    "art  = np.array([np.random.randn(10) for i in range(2)]).T"
   ]
  },
  {
   "cell_type": "code",
   "execution_count": 98,
   "metadata": {
    "collapsed": false
   },
   "outputs": [
    {
     "name": "stdout",
     "output_type": "stream",
     "text": [
      "(10,) (10, 2)\n"
     ]
    }
   ],
   "source": [
    "print w[0].shape, art.shape"
   ]
  },
  {
   "cell_type": "code",
   "execution_count": 101,
   "metadata": {
    "collapsed": false
   },
   "outputs": [
    {
     "data": {
      "text/plain": [
       "array([ 0.98083452,  0.00600646])"
      ]
     },
     "execution_count": 101,
     "metadata": {},
     "output_type": "execute_result"
    }
   ],
   "source": [
    "sigmoid(np.dot(w[0],art))"
   ]
  },
  {
   "cell_type": "code",
   "execution_count": 103,
   "metadata": {
    "collapsed": false
   },
   "outputs": [
    {
     "name": "stdout",
     "output_type": "stream",
     "text": [
      "0.980834518292 0.00600645986615\n"
     ]
    }
   ],
   "source": [
    "print sigmoid(np.dot(w[0],art[:,0])), sigmoid(np.dot(w[0],art[:,1]))"
   ]
  },
  {
   "cell_type": "code",
   "execution_count": null,
   "metadata": {
    "collapsed": true
   },
   "outputs": [],
   "source": [
    "#print network_inputs.shape[1]\n",
    "delta_cost_biass = [np.zeros(list(b.shape) + [network_inputs.shape[1]]) for b in self.biases]\n",
    "delta_cost_weights = [np.zeros(list(w.shape) + [target_activation.shape[1]]) for w in self.weights]\n",
    "weighted_activations = []; \n",
    "a = network_inputs\n",
    "activations = [a]\n",
    "\"first perform the forward pass\"\n",
    "for b, w in zip(self.biases, self.weights):\n",
    "    #print 'a: %s, b: %s, c: %s' %(a.shape, b.shape, w.shape)\n",
    "    z = np.dot(w, a)+b \n",
    "    weighted_activations.append(z)\n",
    "    a = sigmoid(z)\n",
    "    activations.append(a)\n",
    "\n"
   ]
  },
  {
   "cell_type": "code",
   "execution_count": null,
   "metadata": {
    "collapsed": false
   },
   "outputs": [],
   "source": []
  },
  {
   "cell_type": "code",
   "execution_count": 773,
   "metadata": {
    "collapsed": false
   },
   "outputs": [
    {
     "name": "stdout",
     "output_type": "stream",
     "text": [
      "10000000 loops, best of 3: 45.3 ns per loop\n"
     ]
    }
   ],
   "source": [
    "%%timeit\n",
    "\n",
    "if 1<0:\n",
    "    o = np.sqrt(7345**62)\n",
    "    print 'ho'\n",
    "else:\n",
    "    pass"
   ]
  },
  {
   "cell_type": "code",
   "execution_count": null,
   "metadata": {
    "collapsed": false
   },
   "outputs": [],
   "source": []
  },
  {
   "cell_type": "code",
   "execution_count": null,
   "metadata": {
    "collapsed": true
   },
   "outputs": [],
   "source": []
  }
 ],
 "metadata": {
  "kernelspec": {
   "display_name": "Python 2",
   "language": "python",
   "name": "python2"
  },
  "language_info": {
   "codemirror_mode": {
    "name": "ipython",
    "version": 2
   },
   "file_extension": ".py",
   "mimetype": "text/x-python",
   "name": "python",
   "nbconvert_exporter": "python",
   "pygments_lexer": "ipython2",
   "version": "2.7.10"
  }
 },
 "nbformat": 4,
 "nbformat_minor": 0
}
